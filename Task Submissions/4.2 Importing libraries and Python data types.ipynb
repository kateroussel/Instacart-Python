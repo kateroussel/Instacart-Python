{
 "cells": [
  {
   "cell_type": "markdown",
   "id": "99090542",
   "metadata": {},
   "source": [
    "# 01. Importing libraries"
   ]
  },
  {
   "cell_type": "code",
   "execution_count": 1,
   "id": "bfd93863",
   "metadata": {},
   "outputs": [],
   "source": [
    "# Import Libraries\n",
    "import pandas as pd\n",
    "import numpy as np\n",
    "import os"
   ]
  },
  {
   "cell_type": "markdown",
   "id": "e786a53e",
   "metadata": {},
   "source": [
    "7. code 3 different ways of reaching 100"
   ]
  },
  {
   "cell_type": "markdown",
   "id": "50655a44",
   "metadata": {},
   "source": [
    "7.1"
   ]
  },
  {
   "cell_type": "code",
   "execution_count": 2,
   "id": "42e673c9",
   "metadata": {},
   "outputs": [],
   "source": [
    "x = 55"
   ]
  },
  {
   "cell_type": "code",
   "execution_count": 3,
   "id": "6fb481bf",
   "metadata": {},
   "outputs": [],
   "source": [
    "y = 45"
   ]
  },
  {
   "cell_type": "code",
   "execution_count": 4,
   "id": "4f4e888b",
   "metadata": {},
   "outputs": [
    {
     "data": {
      "text/plain": [
       "100"
      ]
     },
     "execution_count": 4,
     "metadata": {},
     "output_type": "execute_result"
    }
   ],
   "source": [
    "x + y"
   ]
  },
  {
   "cell_type": "markdown",
   "id": "a26bc65e",
   "metadata": {},
   "source": [
    "7.2"
   ]
  },
  {
   "cell_type": "code",
   "execution_count": 5,
   "id": "177f5cfa",
   "metadata": {},
   "outputs": [],
   "source": [
    "z = 50"
   ]
  },
  {
   "cell_type": "code",
   "execution_count": 6,
   "id": "168ce33e",
   "metadata": {},
   "outputs": [
    {
     "data": {
      "text/plain": [
       "100"
      ]
     },
     "execution_count": 6,
     "metadata": {},
     "output_type": "execute_result"
    }
   ],
   "source": [
    "z * 2"
   ]
  },
  {
   "cell_type": "markdown",
   "id": "b7ef5116",
   "metadata": {},
   "source": [
    "7.3"
   ]
  },
  {
   "cell_type": "code",
   "execution_count": 7,
   "id": "5000afe7",
   "metadata": {},
   "outputs": [
    {
     "data": {
      "text/plain": [
       "100"
      ]
     },
     "execution_count": 7,
     "metadata": {},
     "output_type": "execute_result"
    }
   ],
   "source": [
    "x + z - 5"
   ]
  },
  {
   "cell_type": "markdown",
   "id": "58b20c0b",
   "metadata": {},
   "source": [
    "8. Code 2 floating-point variables and divide them by eachother"
   ]
  },
  {
   "cell_type": "markdown",
   "id": "d1666279",
   "metadata": {},
   "source": [
    "8.1"
   ]
  },
  {
   "cell_type": "code",
   "execution_count": 8,
   "id": "9a868cb9",
   "metadata": {},
   "outputs": [],
   "source": [
    "a = 67.41"
   ]
  },
  {
   "cell_type": "code",
   "execution_count": 9,
   "id": "10d2307f",
   "metadata": {},
   "outputs": [],
   "source": [
    "b = 4.38"
   ]
  },
  {
   "cell_type": "code",
   "execution_count": 10,
   "id": "9ae03ad0",
   "metadata": {},
   "outputs": [
    {
     "data": {
      "text/plain": [
       "15.39041095890411"
      ]
     },
     "execution_count": 10,
     "metadata": {},
     "output_type": "execute_result"
    }
   ],
   "source": [
    "a / b"
   ]
  },
  {
   "cell_type": "markdown",
   "id": "de52e48b",
   "metadata": {},
   "source": [
    "9. Construct a short word made of separate strings"
   ]
  },
  {
   "cell_type": "markdown",
   "id": "5e49cd3c",
   "metadata": {},
   "source": [
    "9.1"
   ]
  },
  {
   "cell_type": "code",
   "execution_count": 11,
   "id": "97a532e8",
   "metadata": {},
   "outputs": [],
   "source": [
    "p = 'kit'"
   ]
  },
  {
   "cell_type": "code",
   "execution_count": 12,
   "id": "723882b7",
   "metadata": {},
   "outputs": [],
   "source": [
    "q = 'ten'"
   ]
  },
  {
   "cell_type": "code",
   "execution_count": 13,
   "id": "14d6a5f3",
   "metadata": {},
   "outputs": [
    {
     "data": {
      "text/plain": [
       "'kitten'"
      ]
     },
     "execution_count": 13,
     "metadata": {},
     "output_type": "execute_result"
    }
   ],
   "source": [
    "p + q"
   ]
  },
  {
   "cell_type": "markdown",
   "id": "deb516aa",
   "metadata": {},
   "source": [
    "10. Construct 2 short sentences made of seperate strings"
   ]
  },
  {
   "cell_type": "markdown",
   "id": "ad09b682",
   "metadata": {},
   "source": [
    "10.1"
   ]
  },
  {
   "cell_type": "code",
   "execution_count": 27,
   "id": "5110e75c",
   "metadata": {},
   "outputs": [],
   "source": [
    "c = 'Hello, '"
   ]
  },
  {
   "cell_type": "code",
   "execution_count": 23,
   "id": "9789f28f",
   "metadata": {},
   "outputs": [],
   "source": [
    "d = 'little '"
   ]
  },
  {
   "cell_type": "code",
   "execution_count": 24,
   "id": "877e40e8",
   "metadata": {},
   "outputs": [],
   "source": [
    "e = 'cute '"
   ]
  },
  {
   "cell_type": "code",
   "execution_count": 25,
   "id": "5d3837ed",
   "metadata": {},
   "outputs": [],
   "source": [
    "f = 'kitten!'"
   ]
  },
  {
   "cell_type": "code",
   "execution_count": 28,
   "id": "56ac2ae6",
   "metadata": {},
   "outputs": [
    {
     "data": {
      "text/plain": [
       "'Hello, little kitten!'"
      ]
     },
     "execution_count": 28,
     "metadata": {},
     "output_type": "execute_result"
    }
   ],
   "source": [
    "c + d + f"
   ]
  },
  {
   "cell_type": "code",
   "execution_count": 29,
   "id": "9f9d54f2",
   "metadata": {},
   "outputs": [
    {
     "data": {
      "text/plain": [
       "'Hello, cute kitten!'"
      ]
     },
     "execution_count": 29,
     "metadata": {},
     "output_type": "execute_result"
    }
   ],
   "source": [
    "c + e + f"
   ]
  },
  {
   "cell_type": "markdown",
   "id": "98b20783",
   "metadata": {},
   "source": [
    "11. Bonus Task"
   ]
  },
  {
   "cell_type": "code",
   "execution_count": 30,
   "id": "3dc08602",
   "metadata": {},
   "outputs": [
    {
     "data": {
      "text/plain": [
       "'kittenkittenkittenkittenkittenkittenkittenkittenkittenkittenkittenkittenkittenkittenkittenkittenkittenkittenkittenkittenkittenkittenkittenkittenkittenkittenkittenkittenkittenkittenkittenkittenkittenkittenkittenkittenkittenkittenkittenkittenkittenkittenkittenkittenkittenkittenkittenkittenkittenkittenkittenkittenkittenkittenkittenkittenkittenkittenkittenkittenkittenkittenkittenkittenkittenkittenkittenkittenkittenkittenkittenkittenkittenkittenkittenkittenkittenkittenkittenkittenkittenkittenkittenkittenkittenkittenkittenkittenkittenkittenkittenkittenkittenkittenkittenkittenkittenkittenkittenkitten'"
      ]
     },
     "execution_count": 30,
     "metadata": {},
     "output_type": "execute_result"
    }
   ],
   "source": [
    "(p + q) * 100"
   ]
  },
  {
   "cell_type": "code",
   "execution_count": null,
   "id": "8403f2a7",
   "metadata": {},
   "outputs": [],
   "source": []
  }
 ],
 "metadata": {
  "kernelspec": {
   "display_name": "Python 3 (ipykernel)",
   "language": "python",
   "name": "python3"
  },
  "language_info": {
   "codemirror_mode": {
    "name": "ipython",
    "version": 3
   },
   "file_extension": ".py",
   "mimetype": "text/x-python",
   "name": "python",
   "nbconvert_exporter": "python",
   "pygments_lexer": "ipython3",
   "version": "3.9.13"
  }
 },
 "nbformat": 4,
 "nbformat_minor": 5
}
